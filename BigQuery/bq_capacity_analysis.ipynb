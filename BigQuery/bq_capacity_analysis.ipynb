{
  "cells": [
    {
      "cell_type": "markdown",
      "source": [
        "Usage details 使用细节"
      ],
      "metadata": {
        "id": "pzAWOWVUFeGu"
      },
      "id": "pzAWOWVUFeGu"
    },
    {
      "cell_type": "code",
      "id": "XFRJQK2idzueKiZR4xuNNX1G",
      "metadata": {
        "tags": [],
        "id": "XFRJQK2idzueKiZR4xuNNX1G"
      },
      "source": [
        "%%bigquery\n",
        "\n",
        "SELECT\n",
        "  TIMESTAMP_TRUNC(jbo.creation_time, DAY) AS usage_date,\n",
        "  jbo.project_id,\n",
        "  jbo.job_type,\n",
        "  jbo.user_email,\n",
        "  jbo.job_id,\n",
        "  SAFE_DIVIDE(jbo.total_slot_ms, TIMESTAMP_DIFF(jbo.end_time ,jbo.start_time, MILLISECOND)) AS num_slots\n",
        "FROM\n",
        "  `region-us`.INFORMATION_SCHEMA.JOBS_BY_ORGANIZATION jbo"
      ],
      "execution_count": null,
      "outputs": []
    },
    {
      "cell_type": "code",
      "source": [
        "%%bigquery\n",
        "\n",
        "SELECT\n",
        "  job.creation_time,\n",
        "  job.project_id,\n",
        "  job.job_type,\n",
        "  job.user_email,\n",
        "  job.job_id,\n",
        "  job.query,\n",
        "  TIMESTAMP_DIFF(job.end_time,job.start_time, MILLISECOND) AS elapsed_ms,\n",
        "  SAFE_DIVIDE(job.total_slot_ms, TIMESTAMP_DIFF(job.end_time,job.start_time, MILLISECOND)) AS num_slots\n",
        "FROM\n",
        "  `region-us`.INFORMATION_SCHEMA.JOBS_BY_PROJECT job\n",
        "WHERE\n",
        "  job.query NOT LIKE '%INFORMATION_SCHEMA%'\n",
        "ORDER BY\n",
        "  job.creation_time DESC;"
      ],
      "metadata": {
        "id": "jvjzGL8MEc4d"
      },
      "id": "jvjzGL8MEc4d",
      "execution_count": null,
      "outputs": []
    },
    {
      "cell_type": "markdown",
      "source": [
        "Daily slot consumption and cost 每日用量与开销"
      ],
      "metadata": {
        "id": "17w4qigIFpFR"
      },
      "id": "17w4qigIFpFR"
    },
    {
      "cell_type": "code",
      "source": [
        "%%bigquery daily_usage\n",
        "\n",
        "SELECT\n",
        "  DATE(creation_time) AS usage_date,\n",
        "  SUM(total_slot_ms) / 1000 AS total_slot_seconds,\n",
        "  SUM(total_slot_ms) / (1000 * 60 * 60) AS total_slot_hours,\n",
        "  -- This is an estimated cost. Adjust the rate based on your pricing model.\n",
        "  -- Using on-demand pricing for this example ($0.04 per slot hour)\n",
        "  (SUM(total_slot_ms) / (1000 * 60 * 60)) * 0.04 AS estimated_cost_usd\n",
        "FROM\n",
        "  `region-us`.INFORMATION_SCHEMA.JOBS_BY_PROJECT\n",
        "WHERE\n",
        "  creation_time BETWEEN TIMESTAMP_SUB(CURRENT_TIMESTAMP(), INTERVAL 30 DAY) AND CURRENT_TIMESTAMP()\n",
        "  AND total_slot_ms > 0\n",
        "GROUP BY\n",
        "  usage_date\n",
        "ORDER BY\n",
        "  usage_date DESC;"
      ],
      "metadata": {
        "id": "kUlbqPbgFr-R"
      },
      "id": "kUlbqPbgFr-R",
      "execution_count": null,
      "outputs": []
    },
    {
      "cell_type": "code",
      "source": [
        "import pandas as pd\n",
        "import matplotlib.pyplot as plt\n",
        "import matplotlib.dates as mdates\n",
        "import seaborn as sns\n",
        "\n",
        "# --- Plotting ---\n",
        "sns.set_style(\"whitegrid\")\n",
        "fig, ax1 = plt.subplots(figsize=(18, 8))\n",
        "\n",
        "# Plot Y2: Bar chart for daily cost (ax1 - left axis)\n",
        "bar_color = 'skyblue'\n",
        "ax1.set_ylabel('Estimated Daily Cost (USD)', color=bar_color, fontsize=14)\n",
        "ax1.bar(daily_usage['usage_date'], daily_usage['estimated_cost_usd'], color=bar_color, label='Estimated Daily Cost (USD)')\n",
        "ax1.tick_params(axis='y', labelcolor=bar_color)\n",
        "ax1.set_xlabel('Date', fontsize=14)\n",
        "\n",
        "# Create a second y-axis that shares the same x-axis\n",
        "ax2 = ax1.twinx()\n",
        "\n",
        "# Plot Y1: Line chart for slot hours (ax2 - right axis)\n",
        "line_color = 'darkorange'\n",
        "ax2.set_ylabel('Total Slot Hours', color=line_color, fontsize=14)\n",
        "ax2.plot(daily_usage['usage_date'], daily_usage['total_slot_hours'], color=line_color, marker='o', linestyle='-', linewidth=2, label='Total Slot Hours')\n",
        "ax2.tick_params(axis='y', labelcolor=line_color)\n",
        "\n",
        "# --- Formatting ---\n",
        "plt.title('BigQuery Daily Slot Usage and Estimated Cost (Last 30 Days)', fontsize=18, pad=20)\n",
        "fig.tight_layout(pad=3) # Adjust layout to prevent labels from overlapping\n",
        "\n",
        "# Format x-axis to display dates nicely\n",
        "ax1.xaxis.set_major_formatter(mdates.DateFormatter('%Y-%m-%d'))\n",
        "plt.setp(ax1.get_xticklabels(), rotation=45, ha=\"right\")\n",
        "\n",
        "# Add legends\n",
        "# To combine legends from two axes, we get handles and labels from both\n",
        "lines, labels = ax1.get_legend_handles_labels()\n",
        "lines2, labels2 = ax2.get_legend_handles_labels()\n",
        "ax2.legend(lines + lines2, labels + labels2, loc='upper left')\n",
        "\n",
        "plt.show()"
      ],
      "metadata": {
        "id": "BGQRW75YJl-N"
      },
      "id": "BGQRW75YJl-N",
      "execution_count": null,
      "outputs": []
    },
    {
      "cell_type": "markdown",
      "source": [
        "Top queries by slot consumption & distribution\n",
        "\n",
        "槽使用分布"
      ],
      "metadata": {
        "id": "ixGnkNJWGgB6"
      },
      "id": "ixGnkNJWGgB6"
    },
    {
      "cell_type": "code",
      "source": [
        "%%bigquery\n",
        "\n",
        "DECLARE on_demand_rate_per_slot_hour FLOAT64 DEFAULT 0.06;\n",
        "\n",
        "SELECT\n",
        "  job_id,\n",
        "  user_email,\n",
        "  query,\n",
        "  total_slot_ms,\n",
        "  creation_time,\n",
        "  TIMESTAMP_DIFF(end_time, start_time, SECOND) as duration_seconds,\n",
        "  CAST(CEIL(SAFE_DIVIDE(total_slot_ms, TIMESTAMP_DIFF(end_time, start_time, MILLISECOND))) AS INT64) AS average_slots,\n",
        "  FORMAT('$%.2f', (total_slot_ms / (1000 * 60 * 60)) * on_demand_rate_per_slot_hour) AS estimated_cost_usd,\n",
        "FROM\n",
        "  `region-us`.INFORMATION_SCHEMA.JOBS_BY_PROJECT\n",
        "WHERE\n",
        "  creation_time BETWEEN TIMESTAMP_SUB(CURRENT_TIMESTAMP(), INTERVAL 90 DAY) AND CURRENT_TIMESTAMP()\n",
        "  AND total_slot_ms IS NOT NULL\n",
        "ORDER BY\n",
        "  average_slots DESC, total_slot_ms DESC,\n",
        "  duration_seconds DESC, estimated_cost_usd DESC,\n",
        "  user_email ASC;"
      ],
      "metadata": {
        "id": "srPrdiEZTZq9"
      },
      "id": "srPrdiEZTZq9",
      "execution_count": null,
      "outputs": []
    },
    {
      "cell_type": "code",
      "source": [
        "%%bigquery top_queries\n",
        "\n",
        "DECLARE on_demand_rate_per_slot_hour FLOAT64 DEFAULT 0.06;\n",
        "\n",
        "SELECT\n",
        "  job_id,\n",
        "  user_email,\n",
        "  query,\n",
        "  total_slot_ms,\n",
        "  creation_time,\n",
        "  TIMESTAMP_DIFF(end_time, start_time, SECOND) as duration_seconds,\n",
        "  CAST(CEIL(SAFE_DIVIDE(total_slot_ms, TIMESTAMP_DIFF(end_time, start_time, MILLISECOND))) AS INT64) AS average_slots,\n",
        "  FORMAT('$%.2f', (total_slot_ms / (1000 * 60 * 60)) * on_demand_rate_per_slot_hour) AS estimated_cost_usd,\n",
        "FROM\n",
        "  `region-us`.INFORMATION_SCHEMA.JOBS_BY_PROJECT\n",
        "WHERE\n",
        "  creation_time BETWEEN TIMESTAMP_SUB(CURRENT_TIMESTAMP(), INTERVAL 90 DAY) AND CURRENT_TIMESTAMP()\n",
        "  AND total_slot_ms IS NOT NULL\n",
        "ORDER BY\n",
        "  average_slots DESC, total_slot_ms DESC,\n",
        "  duration_seconds DESC, estimated_cost_usd DESC,\n",
        "  user_email ASC;"
      ],
      "metadata": {
        "id": "OG_LyaqDGiXM"
      },
      "id": "OG_LyaqDGiXM",
      "execution_count": null,
      "outputs": []
    },
    {
      "cell_type": "code",
      "source": [
        "import pandas as pd\n",
        "import matplotlib.pyplot as plt\n",
        "import seaborn as sns\n",
        "\n",
        "# Remove any null values that might have resulted from zero-duration jobs\n",
        "top_queries.dropna(subset=['average_slots'], inplace=True)\n",
        "\n",
        "# --- Plotting ---\n",
        "sns.set_theme(style=\"whitegrid\")\n",
        "plt.figure(figsize=(12, 7))\n",
        "\n",
        "# Create a histogram and a Kernel Density Estimate (KDE) plot\n",
        "sns.histplot(top_queries['average_slots'], kde=True, bins=30, color='royalblue', stat='density')\n",
        "\n",
        "# --- Formatting ---\n",
        "plt.title('Distribution of Average Slots per Job', fontsize=18, pad=20)\n",
        "plt.xlabel('Average Slots', fontsize=14)\n",
        "plt.ylabel('Density', fontsize=14)\n",
        "plt.grid(True, which='both', linestyle='--', linewidth=0.5)\n",
        "\n",
        "# Add a vertical line for the median\n",
        "median_val = top_queries['average_slots'].median()\n",
        "plt.axvline(median_val, color='crimson', linestyle='--', linewidth=2, label=f'Median: {median_val:.2f}')\n",
        "plt.legend()\n",
        "\n",
        "print(f\"Plotting distribution for {len(top_queries)} jobs.\")\n",
        "print(top_queries['average_slots'].describe())\n",
        "\n",
        "plt.tight_layout()\n",
        "plt.show()"
      ],
      "metadata": {
        "id": "PkmtkQk6RWbA"
      },
      "id": "PkmtkQk6RWbA",
      "execution_count": null,
      "outputs": []
    },
    {
      "cell_type": "markdown",
      "source": [
        "Slots timeline，10s time bucket for past 8 hours in the job period of 30 days.\n",
        "\n",
        "槽使用时间序列"
      ],
      "metadata": {
        "id": "QTObhvNZd1TT"
      },
      "id": "QTObhvNZd1TT"
    },
    {
      "cell_type": "code",
      "source": [
        "%%bigquery slots_timeline\n",
        "\n",
        "DECLARE start_time TIMESTAMP DEFAULT TIMESTAMP_SUB(CURRENT_TIMESTAMP(), INTERVAL 8 HOUR);\n",
        "DECLARE end_time TIMESTAMP DEFAULT CURRENT_TIMESTAMP();\n",
        "\n",
        "WITH JobPeriods AS (\n",
        "  SELECT\n",
        "    period_start,\n",
        "    -- Approximate avg slots by assuming a 1-second (1000ms) interval duration.\n",
        "    period_slot_ms / 1000.0 AS period_avg_slots\n",
        "  FROM\n",
        "    `region-us`.INFORMATION_SCHEMA.JOBS_TIMELINE_BY_PROJECT\n",
        "  WHERE\n",
        "    -- Use a wide creation_time filter for partition pruning, but a strict\n",
        "    -- period_start filter to define the actual time window of the analysis.\n",
        "    job_creation_time BETWEEN TIMESTAMP_SUB(start_time, INTERVAL 30 DAY) AND end_time\n",
        "    AND period_start BETWEEN start_time AND end_time\n",
        "    AND period_slot_ms > 0\n",
        ")\n",
        "SELECT\n",
        "  -- Create 10-second time buckets for the X-axis\n",
        "  TIMESTAMP_SECONDS(10 * DIV(UNIX_SECONDS(period_start), 10)) AS time_bucket,\n",
        "  -- Sum the slots from all concurrent jobs within this 10-second bucket\n",
        "  SUM(period_avg_slots) AS total_concurrent_slots\n",
        "FROM\n",
        "  JobPeriods\n",
        "GROUP BY\n",
        "  time_bucket\n",
        "ORDER BY\n",
        "  time_bucket;"
      ],
      "metadata": {
        "id": "_iy7Rd1obFN6"
      },
      "id": "_iy7Rd1obFN6",
      "execution_count": null,
      "outputs": []
    },
    {
      "cell_type": "code",
      "source": [
        "import pandas as pd\n",
        "import matplotlib.pyplot as plt\n",
        "import matplotlib.dates as mdates\n",
        "import seaborn as sns\n",
        "\n",
        "slots_timeline['time_bucket'] = pd.to_datetime(slots_timeline['time_bucket'])\n",
        "\n",
        "# --- Plotting ---\n",
        "sns.set_theme(style=\"whitegrid\")\n",
        "plt.figure(figsize=(18, 8))\n",
        "\n",
        "# Create a line plot of total slots over time\n",
        "plt.plot(slots_timeline['time_bucket'], slots_timeline['total_concurrent_slots'], marker='.', linestyle='-', color='teal')\n",
        "\n",
        "# --- Formatting ---\n",
        "plt.title('Total Concurrent Slot Usage (10-Second Granularity)', fontsize=18, pad=20)\n",
        "plt.xlabel('Time', fontsize=14)\n",
        "plt.ylabel('Total Concurrent Slots', fontsize=14)\n",
        "\n",
        "# Format the x-axis to display time clearly\n",
        "ax = plt.gca()\n",
        "ax.xaxis.set_major_formatter(mdates.DateFormatter('%H:%M:%S'))\n",
        "plt.setp(ax.get_xticklabels(), rotation=30, ha=\"right\")\n",
        "\n",
        "# Fill the area under the line for better visualization\n",
        "plt.fill_between(slots_timeline['time_bucket'], slots_timeline['total_concurrent_slots'], alpha=0.2, color='teal')\n",
        "plt.grid(True)\n",
        "plt.tight_layout()\n",
        "plt.show()"
      ],
      "metadata": {
        "id": "DCixek1wbKVk"
      },
      "id": "DCixek1wbKVk",
      "execution_count": null,
      "outputs": []
    },
    {
      "cell_type": "markdown",
      "source": [
        "You can use [administrative resource charts](https://cloud.google.com/bigquery/docs/admin-resource-charts) to monitor your organization's health, slot usage, and BigQuery jobs performance over time. The following example queries the INFORMATION_SCHEMA.JOBS_TIMELINE view for a slot usage timeline at one-hour intervals, similar to the information that is available in administrative resource charts."
      ],
      "metadata": {
        "id": "gufudbXeGy1a"
      },
      "id": "gufudbXeGy1a"
    },
    {
      "cell_type": "code",
      "source": [
        "%%bigquery\n",
        "\n",
        "DECLARE end_time TIMESTAMP DEFAULT CURRENT_TIMESTAMP();\n",
        "DECLARE start_time TIMESTAMP DEFAULT TIMESTAMP_SUB(end_time, INTERVAL 30 DAY);\n",
        "\n",
        "WITH\n",
        "  snapshot_data AS (\n",
        "  SELECT\n",
        "    UNIX_MILLIS(period_start) AS period_start,\n",
        "    IFNULL(SUM(period_slot_ms), 0) AS period_slot_ms,\n",
        "    DIV(UNIX_MILLIS(period_start), 3600000 * 1) * 3600000 * 1 AS time_ms\n",
        "  FROM (\n",
        "    SELECT\n",
        "      *\n",
        "    FROM\n",
        "      `du-hast-mich.region-US`.INFORMATION_SCHEMA.JOBS_TIMELINE_BY_PROJECT\n",
        "    WHERE\n",
        "      ((job_creation_time >= TIMESTAMP_SUB(start_time, INTERVAL 1200 MINUTE)\n",
        "          AND job_creation_time < TIMESTAMP(end_time))\n",
        "        AND period_start >= TIMESTAMP(start_time)\n",
        "        AND period_start < TIMESTAMP(end_time))\n",
        "      AND (statement_type != \"SCRIPT\"\n",
        "        OR statement_type IS NULL)\n",
        "      AND REGEXP_CONTAINS(reservation_id, \"^du-hast-mich:\") )\n",
        "  GROUP BY\n",
        "    period_start,\n",
        "    time_ms ),\n",
        "  converted_percentiles_data AS (\n",
        "  SELECT\n",
        "    time_ms,\n",
        "    100 - CAST(SAFE_DIVIDE(3600000 * 1 * 1 / 1000, COUNT(*)) AS INT64) AS converted_percentiles,\n",
        "  FROM\n",
        "    snapshot_data\n",
        "  GROUP BY\n",
        "    time_ms ),\n",
        "  data_by_time AS (\n",
        "  SELECT\n",
        "    time_ms,\n",
        "  IF\n",
        "    (converted_percentiles <= 0, 0, APPROX_QUANTILES(period_slot_ms, 100)[SAFE_OFFSET(converted_percentiles)] / 1000) AS p99_slots,\n",
        "    SUM(period_slot_ms) / (3600000 * 1) AS avg_slots\n",
        "  FROM\n",
        "    snapshot_data\n",
        "  JOIN\n",
        "    converted_percentiles_data AS c\n",
        "  USING\n",
        "    (time_ms)\n",
        "  GROUP BY\n",
        "    time_ms,\n",
        "    converted_percentiles )\n",
        "SELECT\n",
        "  time_ms,\n",
        "  TIMESTAMP_MILLIS(time_ms) AS time_stamp,\n",
        "  IFNULL(avg_slots, 0) AS avg_slots,\n",
        "  IFNULL(p99_slots, 0) AS p99_slots,\n",
        "FROM (\n",
        "  SELECT\n",
        "    time_ms * 3600000 * 1 AS time_ms\n",
        "  FROM\n",
        "    UNNEST(GENERATE_ARRAY(DIV(UNIX_MILLIS(start_time), 3600000 * 1), DIV(UNIX_MILLIS(end_time), 3600000 * 1) - 1, 1)) AS time_ms )\n",
        "LEFT JOIN\n",
        "  data_by_time\n",
        "USING\n",
        "  (time_ms)\n",
        "ORDER BY\n",
        "  time_ms DESC;"
      ],
      "metadata": {
        "id": "3X-Pgc1cG1fv"
      },
      "id": "3X-Pgc1cG1fv",
      "execution_count": null,
      "outputs": []
    },
    {
      "cell_type": "markdown",
      "source": [
        "Check slot contention"
      ],
      "metadata": {
        "id": "lPQFIpHwHwWO"
      },
      "id": "lPQFIpHwHwWO"
    },
    {
      "cell_type": "code",
      "source": [
        "%%bigquery\n",
        "\n",
        "SELECT\n",
        "    job_id,\n",
        "    SUM(period_slot_ms) / (1000 * 60 * 60) as slot_hours,\n",
        "    MAX(period_slot_ms) as max_slot_ms_in_period\n",
        "FROM\n",
        "    `region-us`.INFORMATION_SCHEMA.JOBS_TIMELINE_BY_PROJECT\n",
        "WHERE\n",
        "    job_creation_time BETWEEN TIMESTAMP_SUB(CURRENT_TIMESTAMP(), INTERVAL 7 DAY) AND CURRENT_TIMESTAMP()\n",
        "GROUP BY\n",
        "    job_id\n",
        "HAVING\n",
        "    max_slot_ms_in_period > 2000\n",
        "ORDER BY\n",
        "    max_slot_ms_in_period DESC;"
      ],
      "metadata": {
        "id": "sUJTQtjOH2y9"
      },
      "id": "sUJTQtjOH2y9",
      "execution_count": null,
      "outputs": []
    },
    {
      "cell_type": "markdown",
      "source": [
        "Predict future usage"
      ],
      "metadata": {
        "id": "ODfmrBNmIWam"
      },
      "id": "ODfmrBNmIWam"
    },
    {
      "cell_type": "code",
      "source": [
        "%%bigquery\n",
        "\n",
        "CREATE OR REPLACE MODEL bq_usage.slot_forecasting\n",
        "OPTIONS(\n",
        "  MODEL_TYPE='ARIMA_PLUS',\n",
        "  TIME_SERIES_TIMESTAMP_COL='usage_date',\n",
        "  TIME_SERIES_DATA_COL='total_slot_hours'\n",
        ") AS\n",
        "SELECT\n",
        "  DATE(creation_time) AS usage_date,\n",
        "  SUM(total_slot_ms) / (1000 * 60 * 60) AS total_slot_hours\n",
        "FROM\n",
        "  `region-us`.INFORMATION_SCHEMA.JOBS_BY_PROJECT\n",
        "WHERE\n",
        "  creation_time BETWEEN TIMESTAMP_SUB(CURRENT_TIMESTAMP(), INTERVAL 365 DAY) AND CURRENT_TIMESTAMP()\n",
        "  AND total_slot_ms > 0\n",
        "GROUP BY\n",
        "  usage_date;\n",
        "\n"
      ],
      "metadata": {
        "id": "3Ppipo3sIZWc"
      },
      "id": "3Ppipo3sIZWc",
      "execution_count": null,
      "outputs": []
    },
    {
      "cell_type": "code",
      "source": [
        "%%bigquery\n",
        "\n",
        "-- Now, use the trained model to forecast the next 30 days\n",
        "SELECT\n",
        "  *\n",
        "FROM\n",
        "  ML.FORECAST(MODEL bq_usage.slot_forecasting,\n",
        "              STRUCT(30 AS horizon, 0.8 AS confidence_level));"
      ],
      "metadata": {
        "id": "RV2Pm6wYIji8"
      },
      "id": "RV2Pm6wYIji8",
      "execution_count": null,
      "outputs": []
    },
    {
      "cell_type": "markdown",
      "source": [
        "Storage Pricing Comparisons\n",
        "\n",
        "比较BigQuery在每个Dataset（数据集）的物理存储和逻辑存储的价格"
      ],
      "metadata": {
        "id": "hIGeN_brIAaa"
      },
      "id": "hIGeN_brIAaa"
    },
    {
      "cell_type": "code",
      "source": [
        "%%bigquery\n",
        "\n",
        "DECLARE active_logical_gib_price FLOAT64 DEFAULT 0.02;\n",
        "DECLARE long_term_logical_gib_price FLOAT64 DEFAULT 0.01;\n",
        "DECLARE active_physical_gib_price FLOAT64 DEFAULT 0.04;\n",
        "DECLARE long_term_physical_gib_price FLOAT64 DEFAULT 0.02;\n",
        "\n",
        "WITH\n",
        " storage_sizes AS (\n",
        "   SELECT\n",
        "     table_schema AS dataset_name,\n",
        "     -- Logical\n",
        "     SUM(IF(deleted=false, active_logical_bytes, 0)) / power(1024, 3) AS active_logical_gib,\n",
        "     SUM(IF(deleted=false, long_term_logical_bytes, 0)) / power(1024, 3) AS long_term_logical_gib,\n",
        "     -- Physical\n",
        "     SUM(active_physical_bytes) / power(1024, 3) AS active_physical_gib,\n",
        "     SUM(active_physical_bytes - time_travel_physical_bytes) / power(1024, 3) AS active_no_tt_physical_gib,\n",
        "     SUM(long_term_physical_bytes) / power(1024, 3) AS long_term_physical_gib,\n",
        "     -- Restorable previously deleted physical\n",
        "     SUM(time_travel_physical_bytes) / power(1024, 3) AS time_travel_physical_gib,\n",
        "     SUM(fail_safe_physical_bytes) / power(1024, 3) AS fail_safe_physical_gib,\n",
        "   FROM\n",
        "     `region-us`.INFORMATION_SCHEMA.TABLE_STORAGE_BY_PROJECT\n",
        "   WHERE total_physical_bytes + fail_safe_physical_bytes > 0\n",
        "     -- Base the forecast on base tables only for highest precision results\n",
        "     AND table_type  = 'BASE TABLE'\n",
        "     GROUP BY 1\n",
        " )\n",
        "SELECT\n",
        "  dataset_name,\n",
        "  -- Logical\n",
        "  ROUND(active_logical_gib, 2) AS active_logical_gib,\n",
        "  ROUND(long_term_logical_gib, 2) AS long_term_logical_gib,\n",
        "  -- Physical\n",
        "  ROUND(active_physical_gib, 2) AS active_physical_gib,\n",
        "  ROUND(long_term_physical_gib, 2) AS long_term_physical_gib,\n",
        "  ROUND(time_travel_physical_gib, 2) AS time_travel_physical_gib,\n",
        "  ROUND(fail_safe_physical_gib, 2) AS fail_safe_physical_gib,\n",
        "  -- Compression ratio\n",
        "  ROUND(SAFE_DIVIDE(active_logical_gib, active_no_tt_physical_gib), 2) AS active_compression_ratio,\n",
        "  ROUND(SAFE_DIVIDE(long_term_logical_gib, long_term_physical_gib), 2) AS long_term_compression_ratio,\n",
        "  -- Forecast costs logical\n",
        "  ROUND(active_logical_gib * active_logical_gib_price, 2) AS forecast_active_logical_cost,\n",
        "  ROUND(long_term_logical_gib * long_term_logical_gib_price, 2) AS forecast_long_term_logical_cost,\n",
        "  -- Forecast costs physical\n",
        "  ROUND((active_no_tt_physical_gib + time_travel_physical_gib + fail_safe_physical_gib) * active_physical_gib_price, 2) AS forecast_active_physical_cost,\n",
        "  ROUND(long_term_physical_gib * long_term_physical_gib_price, 2) AS forecast_long_term_physical_cost,\n",
        "  -- Forecast costs total\n",
        "  ROUND(((active_logical_gib * active_logical_gib_price) + (long_term_logical_gib * long_term_logical_gib_price)) -\n",
        "     (((active_no_tt_physical_gib + time_travel_physical_gib + fail_safe_physical_gib) * active_physical_gib_price) + (long_term_physical_gib * long_term_physical_gib_price)), 2) AS forecast_total_cost_difference\n",
        "FROM\n",
        "  storage_sizes\n",
        "ORDER BY\n",
        "  (forecast_active_logical_cost + forecast_active_physical_cost) DESC;"
      ],
      "metadata": {
        "id": "7BgBTBe6IEl2"
      },
      "id": "7BgBTBe6IEl2",
      "execution_count": null,
      "outputs": []
    }
  ],
  "metadata": {
    "kernelspec": {
      "display_name": "Python 3",
      "language": "python",
      "name": "python3"
    },
    "language_info": {
      "codemirror_mode": {
        "name": "ipython",
        "version": 3
      },
      "file_extension": ".py",
      "mimetype": "text/x-python",
      "name": "python",
      "nbconvert_exporter": "python",
      "pygments_lexer": "ipython3",
      "version": "3.10.10"
    },
    "colab": {
      "provenance": []
    }
  },
  "nbformat": 4,
  "nbformat_minor": 5
}